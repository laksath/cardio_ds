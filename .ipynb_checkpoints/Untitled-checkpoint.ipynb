{
 "cells": [
  {
   "cell_type": "code",
   "execution_count": 1,
   "id": "0018063f",
   "metadata": {},
   "outputs": [],
   "source": [
    "import numpy as np\n",
    "import pandas as pd  \n",
    "from scipy.stats import spearmanr\n",
    "import scipy.stats as stats\n",
    "from scipy.optimize import curve_fit\n",
    "import matplotlib.pyplot as plt\n",
    "from sklearn.metrics import f1_score\n",
    "\n",
    "import warnings\n",
    "warnings.filterwarnings('ignore')"
   ]
  },
  {
   "cell_type": "code",
   "execution_count": 2,
   "id": "646a66c2",
   "metadata": {},
   "outputs": [
    {
     "data": {
      "text/html": [
       "<div>\n",
       "<style scoped>\n",
       "    .dataframe tbody tr th:only-of-type {\n",
       "        vertical-align: middle;\n",
       "    }\n",
       "\n",
       "    .dataframe tbody tr th {\n",
       "        vertical-align: top;\n",
       "    }\n",
       "\n",
       "    .dataframe thead th {\n",
       "        text-align: right;\n",
       "    }\n",
       "</style>\n",
       "<table border=\"1\" class=\"dataframe\">\n",
       "  <thead>\n",
       "    <tr style=\"text-align: right;\">\n",
       "      <th></th>\n",
       "      <th>id</th>\n",
       "      <th>age</th>\n",
       "      <th>gender</th>\n",
       "      <th>height</th>\n",
       "      <th>weight</th>\n",
       "      <th>ap_hi</th>\n",
       "      <th>ap_lo</th>\n",
       "      <th>cholesterol</th>\n",
       "      <th>smoke</th>\n",
       "    </tr>\n",
       "  </thead>\n",
       "  <tbody>\n",
       "    <tr>\n",
       "      <th>0</th>\n",
       "      <td>0</td>\n",
       "      <td>18393</td>\n",
       "      <td>2</td>\n",
       "      <td>168</td>\n",
       "      <td>62.0</td>\n",
       "      <td>110</td>\n",
       "      <td>80</td>\n",
       "      <td>1</td>\n",
       "      <td>0</td>\n",
       "    </tr>\n",
       "    <tr>\n",
       "      <th>1</th>\n",
       "      <td>1</td>\n",
       "      <td>20228</td>\n",
       "      <td>1</td>\n",
       "      <td>156</td>\n",
       "      <td>85.0</td>\n",
       "      <td>140</td>\n",
       "      <td>90</td>\n",
       "      <td>3</td>\n",
       "      <td>0</td>\n",
       "    </tr>\n",
       "    <tr>\n",
       "      <th>2</th>\n",
       "      <td>2</td>\n",
       "      <td>18857</td>\n",
       "      <td>1</td>\n",
       "      <td>165</td>\n",
       "      <td>64.0</td>\n",
       "      <td>130</td>\n",
       "      <td>70</td>\n",
       "      <td>3</td>\n",
       "      <td>0</td>\n",
       "    </tr>\n",
       "    <tr>\n",
       "      <th>3</th>\n",
       "      <td>3</td>\n",
       "      <td>17623</td>\n",
       "      <td>2</td>\n",
       "      <td>169</td>\n",
       "      <td>82.0</td>\n",
       "      <td>150</td>\n",
       "      <td>100</td>\n",
       "      <td>1</td>\n",
       "      <td>0</td>\n",
       "    </tr>\n",
       "    <tr>\n",
       "      <th>4</th>\n",
       "      <td>4</td>\n",
       "      <td>17474</td>\n",
       "      <td>1</td>\n",
       "      <td>156</td>\n",
       "      <td>56.0</td>\n",
       "      <td>100</td>\n",
       "      <td>60</td>\n",
       "      <td>1</td>\n",
       "      <td>0</td>\n",
       "    </tr>\n",
       "  </tbody>\n",
       "</table>\n",
       "</div>"
      ],
      "text/plain": [
       "   id    age  gender  height  weight  ap_hi  ap_lo  cholesterol  smoke\n",
       "0   0  18393       2     168    62.0    110     80            1      0\n",
       "1   1  20228       1     156    85.0    140     90            3      0\n",
       "2   2  18857       1     165    64.0    130     70            3      0\n",
       "3   3  17623       2     169    82.0    150    100            1      0\n",
       "4   4  17474       1     156    56.0    100     60            1      0"
      ]
     },
     "execution_count": 2,
     "metadata": {},
     "output_type": "execute_result"
    }
   ],
   "source": [
    "df = pd.read_csv('data/cardio_base.csv')\n",
    "df.head()"
   ]
  },
  {
   "cell_type": "code",
   "execution_count": 3,
   "id": "1df88cbb",
   "metadata": {},
   "outputs": [],
   "source": [
    "#q1"
   ]
  },
  {
   "cell_type": "code",
   "execution_count": 4,
   "id": "7bbce2a2",
   "metadata": {},
   "outputs": [],
   "source": [
    "df['age_years'] = (df['age'] / 365).astype(int)"
   ]
  },
  {
   "cell_type": "code",
   "execution_count": 5,
   "id": "ca6e8c60",
   "metadata": {},
   "outputs": [],
   "source": [
    "average_weight_by_age = df.groupby('age_years')['weight'].mean()"
   ]
  },
  {
   "cell_type": "code",
   "execution_count": 6,
   "id": "3954fc7c",
   "metadata": {},
   "outputs": [],
   "source": [
    "max_weight_age_group = average_weight_by_age.idxmax()\n",
    "min_weight_age_group = average_weight_by_age.idxmin()"
   ]
  },
  {
   "cell_type": "code",
   "execution_count": 7,
   "id": "ad86ec92",
   "metadata": {},
   "outputs": [],
   "source": [
    "weight_difference = average_weight_by_age[max_weight_age_group] - average_weight_by_age[min_weight_age_group]"
   ]
  },
  {
   "cell_type": "code",
   "execution_count": 8,
   "id": "e4e9eed2",
   "metadata": {},
   "outputs": [
    {
     "name": "stdout",
     "output_type": "stream",
     "text": [
      "The age group with the highest average weight is 63 years old.\n",
      "The age group with the lowest average weight is 30 years old.\n",
      "The difference in average weight between these age groups is 16.87 kg.\n"
     ]
    }
   ],
   "source": [
    "print(f\"The age group with the highest average weight is {max_weight_age_group} years old.\")\n",
    "print(f\"The age group with the lowest average weight is {min_weight_age_group} years old.\")\n",
    "print(f\"The difference in average weight between these age groups is {weight_difference:.2f} kg.\")"
   ]
  },
  {
   "cell_type": "code",
   "execution_count": 9,
   "id": "5bbcc337",
   "metadata": {},
   "outputs": [
    {
     "name": "stdout",
     "output_type": "stream",
     "text": [
      "This is 28.60% heavier than the age group with the lowest weight.\n"
     ]
    }
   ],
   "source": [
    "percentage_difference = (weight_difference / average_weight_by_age[min_weight_age_group]) * 100\n",
    "print(f\"This is {percentage_difference:.2f}% heavier than the age group with the lowest weight.\")"
   ]
  },
  {
   "cell_type": "code",
   "execution_count": 10,
   "id": "49dfa3c4",
   "metadata": {},
   "outputs": [],
   "source": [
    "#q2"
   ]
  },
  {
   "cell_type": "code",
   "execution_count": 11,
   "id": "c365e232",
   "metadata": {},
   "outputs": [],
   "source": [
    "df['over_50'] = df['age_years'] > 50\n",
    "\n",
    "# Calculate the average cholesterol level for people over 50 and the rest\n",
    "average_cholesterol_over_50 = df[df['over_50']]['cholesterol'].mean()\n",
    "average_cholesterol_under_50 = df[~df['over_50']]['cholesterol'].mean()"
   ]
  },
  {
   "cell_type": "code",
   "execution_count": 12,
   "id": "adc2841a",
   "metadata": {},
   "outputs": [],
   "source": [
    "percentage_difference = ((average_cholesterol_over_50 - average_cholesterol_under_50) / average_cholesterol_under_50) * 100"
   ]
  },
  {
   "cell_type": "code",
   "execution_count": 13,
   "id": "e061fc5f",
   "metadata": {},
   "outputs": [
    {
     "name": "stdout",
     "output_type": "stream",
     "text": [
      "The average cholesterol level for people over 50 is: 1.43\n",
      "The average cholesterol level for people under 50 is: 1.25\n",
      "Yes, their cholesterol level is 14.69% higher on average.\n"
     ]
    }
   ],
   "source": [
    "print(f\"The average cholesterol level for people over 50 is: {average_cholesterol_over_50:.2f}\")\n",
    "print(f\"The average cholesterol level for people under 50 is: {average_cholesterol_under_50:.2f}\")\n",
    "\n",
    "# Check the provided options\n",
    "if percentage_difference > 0:\n",
    "    print(f\"Yes, their cholesterol level is {abs(percentage_difference):.2f}% higher on average.\")\n",
    "else:\n",
    "    print(\"No, it's about the same.\")\n"
   ]
  },
  {
   "cell_type": "code",
   "execution_count": 14,
   "id": "0416c7a6",
   "metadata": {},
   "outputs": [],
   "source": [
    "# q3"
   ]
  },
  {
   "cell_type": "code",
   "execution_count": 15,
   "id": "4c38b850",
   "metadata": {},
   "outputs": [
    {
     "name": "stdout",
     "output_type": "stream",
     "text": [
      "Percentage of smokers by gender:\n",
      "gender\n",
      "Female     1.785636\n",
      "Male      21.888026\n",
      "Name: smoke, dtype: float64\n"
     ]
    }
   ],
   "source": [
    "df['gender'] = df['gender'].map({1: 'Female', 2: 'Male'})\n",
    "\n",
    "# Calculate the percentage of smokers for each gender\n",
    "smoking_percentage_by_gender = df.groupby('gender')['smoke'].mean() * 100\n",
    "\n",
    "print(\"Percentage of smokers by gender:\")\n",
    "print(smoking_percentage_by_gender)"
   ]
  },
  {
   "cell_type": "code",
   "execution_count": 16,
   "id": "d56ac00b",
   "metadata": {},
   "outputs": [],
   "source": [
    "likelihood_ratio = smoking_percentage_by_gender['Male'] / smoking_percentage_by_gender['Female']"
   ]
  },
  {
   "cell_type": "code",
   "execution_count": 17,
   "id": "dacf9fd4",
   "metadata": {},
   "outputs": [
    {
     "name": "stdout",
     "output_type": "stream",
     "text": [
      "Yes, men are 12.26 times more likely to be smokers.\n"
     ]
    }
   ],
   "source": [
    "if likelihood_ratio > 1:\n",
    "    print(f\"Yes, men are {likelihood_ratio:.2f} times more likely to be smokers.\")\n",
    "elif likelihood_ratio < 1:\n",
    "    print(f\"No, women are {1/likelihood_ratio:.2f} times more likely to be smokers.\")\n",
    "else:\n",
    "    print(\"Similar portion of men and women are smokers.\")"
   ]
  },
  {
   "cell_type": "code",
   "execution_count": 18,
   "id": "81574c11",
   "metadata": {},
   "outputs": [],
   "source": [
    "#q4"
   ]
  },
  {
   "cell_type": "code",
   "execution_count": 19,
   "id": "6a029563",
   "metadata": {},
   "outputs": [],
   "source": [
    "height_threshold = df['height'].quantile(0.99)"
   ]
  },
  {
   "cell_type": "code",
   "execution_count": 20,
   "id": "ff5c4b8a",
   "metadata": {},
   "outputs": [
    {
     "data": {
      "text/plain": [
       "184.0"
      ]
     },
     "execution_count": 20,
     "metadata": {},
     "output_type": "execute_result"
    }
   ],
   "source": [
    "height_threshold"
   ]
  },
  {
   "cell_type": "code",
   "execution_count": 21,
   "id": "23ce08e7",
   "metadata": {},
   "outputs": [],
   "source": [
    "# q5"
   ]
  },
  {
   "cell_type": "code",
   "execution_count": 22,
   "id": "f76ba88d",
   "metadata": {},
   "outputs": [],
   "source": [
    "df1_5 = pd.read_csv('data/cardio_base.csv')"
   ]
  },
  {
   "cell_type": "code",
   "execution_count": 23,
   "id": "28f82077",
   "metadata": {},
   "outputs": [
    {
     "data": {
      "text/html": [
       "<div>\n",
       "<style scoped>\n",
       "    .dataframe tbody tr th:only-of-type {\n",
       "        vertical-align: middle;\n",
       "    }\n",
       "\n",
       "    .dataframe tbody tr th {\n",
       "        vertical-align: top;\n",
       "    }\n",
       "\n",
       "    .dataframe thead th {\n",
       "        text-align: right;\n",
       "    }\n",
       "</style>\n",
       "<table border=\"1\" class=\"dataframe\">\n",
       "  <thead>\n",
       "    <tr style=\"text-align: right;\">\n",
       "      <th></th>\n",
       "      <th>id</th>\n",
       "      <th>age</th>\n",
       "      <th>gender</th>\n",
       "      <th>height</th>\n",
       "      <th>weight</th>\n",
       "      <th>ap_hi</th>\n",
       "      <th>ap_lo</th>\n",
       "      <th>cholesterol</th>\n",
       "      <th>smoke</th>\n",
       "    </tr>\n",
       "  </thead>\n",
       "  <tbody>\n",
       "    <tr>\n",
       "      <th>id</th>\n",
       "      <td>1.000000</td>\n",
       "      <td>0.002682</td>\n",
       "      <td>0.003506</td>\n",
       "      <td>-0.001886</td>\n",
       "      <td>-0.001292</td>\n",
       "      <td>0.003258</td>\n",
       "      <td>-0.000238</td>\n",
       "      <td>0.005706</td>\n",
       "      <td>-0.003697</td>\n",
       "    </tr>\n",
       "    <tr>\n",
       "      <th>age</th>\n",
       "      <td>0.002682</td>\n",
       "      <td>1.000000</td>\n",
       "      <td>-0.020176</td>\n",
       "      <td>-0.082292</td>\n",
       "      <td>0.061559</td>\n",
       "      <td>0.219087</td>\n",
       "      <td>0.156700</td>\n",
       "      <td>0.140113</td>\n",
       "      <td>-0.047471</td>\n",
       "    </tr>\n",
       "    <tr>\n",
       "      <th>gender</th>\n",
       "      <td>0.003506</td>\n",
       "      <td>-0.020176</td>\n",
       "      <td>1.000000</td>\n",
       "      <td>0.533805</td>\n",
       "      <td>0.172480</td>\n",
       "      <td>0.063174</td>\n",
       "      <td>0.066374</td>\n",
       "      <td>-0.035730</td>\n",
       "      <td>0.338135</td>\n",
       "    </tr>\n",
       "    <tr>\n",
       "      <th>height</th>\n",
       "      <td>-0.001886</td>\n",
       "      <td>-0.082292</td>\n",
       "      <td>0.533805</td>\n",
       "      <td>1.000000</td>\n",
       "      <td>0.313569</td>\n",
       "      <td>0.019381</td>\n",
       "      <td>0.030534</td>\n",
       "      <td>-0.058940</td>\n",
       "      <td>0.197632</td>\n",
       "    </tr>\n",
       "    <tr>\n",
       "      <th>weight</th>\n",
       "      <td>-0.001292</td>\n",
       "      <td>0.061559</td>\n",
       "      <td>0.172480</td>\n",
       "      <td>0.313569</td>\n",
       "      <td>1.000000</td>\n",
       "      <td>0.277749</td>\n",
       "      <td>0.254420</td>\n",
       "      <td>0.137908</td>\n",
       "      <td>0.071676</td>\n",
       "    </tr>\n",
       "    <tr>\n",
       "      <th>ap_hi</th>\n",
       "      <td>0.003258</td>\n",
       "      <td>0.219087</td>\n",
       "      <td>0.063174</td>\n",
       "      <td>0.019381</td>\n",
       "      <td>0.277749</td>\n",
       "      <td>1.000000</td>\n",
       "      <td>0.735436</td>\n",
       "      <td>0.208722</td>\n",
       "      <td>0.028929</td>\n",
       "    </tr>\n",
       "    <tr>\n",
       "      <th>ap_lo</th>\n",
       "      <td>-0.000238</td>\n",
       "      <td>0.156700</td>\n",
       "      <td>0.066374</td>\n",
       "      <td>0.030534</td>\n",
       "      <td>0.254420</td>\n",
       "      <td>0.735436</td>\n",
       "      <td>1.000000</td>\n",
       "      <td>0.167401</td>\n",
       "      <td>0.026172</td>\n",
       "    </tr>\n",
       "    <tr>\n",
       "      <th>cholesterol</th>\n",
       "      <td>0.005706</td>\n",
       "      <td>0.140113</td>\n",
       "      <td>-0.035730</td>\n",
       "      <td>-0.058940</td>\n",
       "      <td>0.137908</td>\n",
       "      <td>0.208722</td>\n",
       "      <td>0.167401</td>\n",
       "      <td>1.000000</td>\n",
       "      <td>0.015220</td>\n",
       "    </tr>\n",
       "    <tr>\n",
       "      <th>smoke</th>\n",
       "      <td>-0.003697</td>\n",
       "      <td>-0.047471</td>\n",
       "      <td>0.338135</td>\n",
       "      <td>0.197632</td>\n",
       "      <td>0.071676</td>\n",
       "      <td>0.028929</td>\n",
       "      <td>0.026172</td>\n",
       "      <td>0.015220</td>\n",
       "      <td>1.000000</td>\n",
       "    </tr>\n",
       "  </tbody>\n",
       "</table>\n",
       "</div>"
      ],
      "text/plain": [
       "                   id       age    gender    height    weight     ap_hi  \\\n",
       "id           1.000000  0.002682  0.003506 -0.001886 -0.001292  0.003258   \n",
       "age          0.002682  1.000000 -0.020176 -0.082292  0.061559  0.219087   \n",
       "gender       0.003506 -0.020176  1.000000  0.533805  0.172480  0.063174   \n",
       "height      -0.001886 -0.082292  0.533805  1.000000  0.313569  0.019381   \n",
       "weight      -0.001292  0.061559  0.172480  0.313569  1.000000  0.277749   \n",
       "ap_hi        0.003258  0.219087  0.063174  0.019381  0.277749  1.000000   \n",
       "ap_lo       -0.000238  0.156700  0.066374  0.030534  0.254420  0.735436   \n",
       "cholesterol  0.005706  0.140113 -0.035730 -0.058940  0.137908  0.208722   \n",
       "smoke       -0.003697 -0.047471  0.338135  0.197632  0.071676  0.028929   \n",
       "\n",
       "                ap_lo  cholesterol     smoke  \n",
       "id          -0.000238     0.005706 -0.003697  \n",
       "age          0.156700     0.140113 -0.047471  \n",
       "gender       0.066374    -0.035730  0.338135  \n",
       "height       0.030534    -0.058940  0.197632  \n",
       "weight       0.254420     0.137908  0.071676  \n",
       "ap_hi        0.735436     0.208722  0.028929  \n",
       "ap_lo        1.000000     0.167401  0.026172  \n",
       "cholesterol  0.167401     1.000000  0.015220  \n",
       "smoke        0.026172     0.015220  1.000000  "
      ]
     },
     "execution_count": 23,
     "metadata": {},
     "output_type": "execute_result"
    }
   ],
   "source": [
    "correlation_matrix = df1_5.corr(method='spearman')\n",
    "correlation_matrix"
   ]
  },
  {
   "cell_type": "code",
   "execution_count": 24,
   "id": "1d6b8ea6",
   "metadata": {},
   "outputs": [
    {
     "data": {
      "text/html": [
       "<div>\n",
       "<style scoped>\n",
       "    .dataframe tbody tr th:only-of-type {\n",
       "        vertical-align: middle;\n",
       "    }\n",
       "\n",
       "    .dataframe tbody tr th {\n",
       "        vertical-align: top;\n",
       "    }\n",
       "\n",
       "    .dataframe thead th {\n",
       "        text-align: right;\n",
       "    }\n",
       "</style>\n",
       "<table border=\"1\" class=\"dataframe\">\n",
       "  <thead>\n",
       "    <tr style=\"text-align: right;\">\n",
       "      <th></th>\n",
       "      <th>id</th>\n",
       "      <th>age</th>\n",
       "      <th>gender</th>\n",
       "      <th>height</th>\n",
       "      <th>weight</th>\n",
       "      <th>ap_hi</th>\n",
       "      <th>ap_lo</th>\n",
       "      <th>cholesterol</th>\n",
       "      <th>smoke</th>\n",
       "    </tr>\n",
       "  </thead>\n",
       "  <tbody>\n",
       "    <tr>\n",
       "      <th>id</th>\n",
       "      <td>NaN</td>\n",
       "      <td>0.002682</td>\n",
       "      <td>0.003506</td>\n",
       "      <td>-0.001886</td>\n",
       "      <td>-0.001292</td>\n",
       "      <td>0.003258</td>\n",
       "      <td>-0.000238</td>\n",
       "      <td>0.005706</td>\n",
       "      <td>-0.003697</td>\n",
       "    </tr>\n",
       "    <tr>\n",
       "      <th>age</th>\n",
       "      <td>NaN</td>\n",
       "      <td>NaN</td>\n",
       "      <td>-0.020176</td>\n",
       "      <td>-0.082292</td>\n",
       "      <td>0.061559</td>\n",
       "      <td>0.219087</td>\n",
       "      <td>0.156700</td>\n",
       "      <td>0.140113</td>\n",
       "      <td>-0.047471</td>\n",
       "    </tr>\n",
       "    <tr>\n",
       "      <th>gender</th>\n",
       "      <td>NaN</td>\n",
       "      <td>NaN</td>\n",
       "      <td>NaN</td>\n",
       "      <td>0.533805</td>\n",
       "      <td>0.172480</td>\n",
       "      <td>0.063174</td>\n",
       "      <td>0.066374</td>\n",
       "      <td>-0.035730</td>\n",
       "      <td>0.338135</td>\n",
       "    </tr>\n",
       "    <tr>\n",
       "      <th>height</th>\n",
       "      <td>NaN</td>\n",
       "      <td>NaN</td>\n",
       "      <td>NaN</td>\n",
       "      <td>NaN</td>\n",
       "      <td>0.313569</td>\n",
       "      <td>0.019381</td>\n",
       "      <td>0.030534</td>\n",
       "      <td>-0.058940</td>\n",
       "      <td>0.197632</td>\n",
       "    </tr>\n",
       "    <tr>\n",
       "      <th>weight</th>\n",
       "      <td>NaN</td>\n",
       "      <td>NaN</td>\n",
       "      <td>NaN</td>\n",
       "      <td>NaN</td>\n",
       "      <td>NaN</td>\n",
       "      <td>0.277749</td>\n",
       "      <td>0.254420</td>\n",
       "      <td>0.137908</td>\n",
       "      <td>0.071676</td>\n",
       "    </tr>\n",
       "    <tr>\n",
       "      <th>ap_hi</th>\n",
       "      <td>NaN</td>\n",
       "      <td>NaN</td>\n",
       "      <td>NaN</td>\n",
       "      <td>NaN</td>\n",
       "      <td>NaN</td>\n",
       "      <td>NaN</td>\n",
       "      <td>0.735436</td>\n",
       "      <td>0.208722</td>\n",
       "      <td>0.028929</td>\n",
       "    </tr>\n",
       "    <tr>\n",
       "      <th>ap_lo</th>\n",
       "      <td>NaN</td>\n",
       "      <td>NaN</td>\n",
       "      <td>NaN</td>\n",
       "      <td>NaN</td>\n",
       "      <td>NaN</td>\n",
       "      <td>NaN</td>\n",
       "      <td>NaN</td>\n",
       "      <td>0.167401</td>\n",
       "      <td>0.026172</td>\n",
       "    </tr>\n",
       "    <tr>\n",
       "      <th>cholesterol</th>\n",
       "      <td>NaN</td>\n",
       "      <td>NaN</td>\n",
       "      <td>NaN</td>\n",
       "      <td>NaN</td>\n",
       "      <td>NaN</td>\n",
       "      <td>NaN</td>\n",
       "      <td>NaN</td>\n",
       "      <td>NaN</td>\n",
       "      <td>0.015220</td>\n",
       "    </tr>\n",
       "    <tr>\n",
       "      <th>smoke</th>\n",
       "      <td>NaN</td>\n",
       "      <td>NaN</td>\n",
       "      <td>NaN</td>\n",
       "      <td>NaN</td>\n",
       "      <td>NaN</td>\n",
       "      <td>NaN</td>\n",
       "      <td>NaN</td>\n",
       "      <td>NaN</td>\n",
       "      <td>NaN</td>\n",
       "    </tr>\n",
       "  </tbody>\n",
       "</table>\n",
       "</div>"
      ],
      "text/plain": [
       "             id       age    gender    height    weight     ap_hi     ap_lo  \\\n",
       "id          NaN  0.002682  0.003506 -0.001886 -0.001292  0.003258 -0.000238   \n",
       "age         NaN       NaN -0.020176 -0.082292  0.061559  0.219087  0.156700   \n",
       "gender      NaN       NaN       NaN  0.533805  0.172480  0.063174  0.066374   \n",
       "height      NaN       NaN       NaN       NaN  0.313569  0.019381  0.030534   \n",
       "weight      NaN       NaN       NaN       NaN       NaN  0.277749  0.254420   \n",
       "ap_hi       NaN       NaN       NaN       NaN       NaN       NaN  0.735436   \n",
       "ap_lo       NaN       NaN       NaN       NaN       NaN       NaN       NaN   \n",
       "cholesterol NaN       NaN       NaN       NaN       NaN       NaN       NaN   \n",
       "smoke       NaN       NaN       NaN       NaN       NaN       NaN       NaN   \n",
       "\n",
       "             cholesterol     smoke  \n",
       "id              0.005706 -0.003697  \n",
       "age             0.140113 -0.047471  \n",
       "gender         -0.035730  0.338135  \n",
       "height         -0.058940  0.197632  \n",
       "weight          0.137908  0.071676  \n",
       "ap_hi           0.208722  0.028929  \n",
       "ap_lo           0.167401  0.026172  \n",
       "cholesterol          NaN  0.015220  \n",
       "smoke                NaN       NaN  "
      ]
     },
     "execution_count": 24,
     "metadata": {},
     "output_type": "execute_result"
    }
   ],
   "source": [
    "upper_triangle = correlation_matrix.where(np.triu(np.ones(correlation_matrix.shape), k=1).astype(bool))\n",
    "upper_triangle"
   ]
  },
  {
   "cell_type": "code",
   "execution_count": 25,
   "id": "6c328387",
   "metadata": {},
   "outputs": [
    {
     "data": {
      "text/html": [
       "<div>\n",
       "<style scoped>\n",
       "    .dataframe tbody tr th:only-of-type {\n",
       "        vertical-align: middle;\n",
       "    }\n",
       "\n",
       "    .dataframe tbody tr th {\n",
       "        vertical-align: top;\n",
       "    }\n",
       "\n",
       "    .dataframe thead th {\n",
       "        text-align: right;\n",
       "    }\n",
       "</style>\n",
       "<table border=\"1\" class=\"dataframe\">\n",
       "  <thead>\n",
       "    <tr style=\"text-align: right;\">\n",
       "      <th></th>\n",
       "      <th>Feature1</th>\n",
       "      <th>Feature2</th>\n",
       "      <th>Correlation</th>\n",
       "    </tr>\n",
       "  </thead>\n",
       "  <tbody>\n",
       "    <tr>\n",
       "      <th>0</th>\n",
       "      <td>ap_hi</td>\n",
       "      <td>ap_lo</td>\n",
       "      <td>0.735436</td>\n",
       "    </tr>\n",
       "    <tr>\n",
       "      <th>0</th>\n",
       "      <td>gender</td>\n",
       "      <td>height</td>\n",
       "      <td>0.533805</td>\n",
       "    </tr>\n",
       "    <tr>\n",
       "      <th>0</th>\n",
       "      <td>gender</td>\n",
       "      <td>smoke</td>\n",
       "      <td>0.338135</td>\n",
       "    </tr>\n",
       "    <tr>\n",
       "      <th>0</th>\n",
       "      <td>height</td>\n",
       "      <td>weight</td>\n",
       "      <td>0.313569</td>\n",
       "    </tr>\n",
       "    <tr>\n",
       "      <th>0</th>\n",
       "      <td>weight</td>\n",
       "      <td>ap_hi</td>\n",
       "      <td>0.277749</td>\n",
       "    </tr>\n",
       "    <tr>\n",
       "      <th>0</th>\n",
       "      <td>weight</td>\n",
       "      <td>ap_lo</td>\n",
       "      <td>0.254420</td>\n",
       "    </tr>\n",
       "    <tr>\n",
       "      <th>0</th>\n",
       "      <td>age</td>\n",
       "      <td>ap_hi</td>\n",
       "      <td>0.219087</td>\n",
       "    </tr>\n",
       "    <tr>\n",
       "      <th>0</th>\n",
       "      <td>ap_hi</td>\n",
       "      <td>cholesterol</td>\n",
       "      <td>0.208722</td>\n",
       "    </tr>\n",
       "    <tr>\n",
       "      <th>0</th>\n",
       "      <td>height</td>\n",
       "      <td>smoke</td>\n",
       "      <td>0.197632</td>\n",
       "    </tr>\n",
       "    <tr>\n",
       "      <th>0</th>\n",
       "      <td>gender</td>\n",
       "      <td>weight</td>\n",
       "      <td>0.172480</td>\n",
       "    </tr>\n",
       "    <tr>\n",
       "      <th>0</th>\n",
       "      <td>ap_lo</td>\n",
       "      <td>cholesterol</td>\n",
       "      <td>0.167401</td>\n",
       "    </tr>\n",
       "    <tr>\n",
       "      <th>0</th>\n",
       "      <td>age</td>\n",
       "      <td>ap_lo</td>\n",
       "      <td>0.156700</td>\n",
       "    </tr>\n",
       "    <tr>\n",
       "      <th>0</th>\n",
       "      <td>age</td>\n",
       "      <td>cholesterol</td>\n",
       "      <td>0.140113</td>\n",
       "    </tr>\n",
       "    <tr>\n",
       "      <th>0</th>\n",
       "      <td>weight</td>\n",
       "      <td>cholesterol</td>\n",
       "      <td>0.137908</td>\n",
       "    </tr>\n",
       "    <tr>\n",
       "      <th>0</th>\n",
       "      <td>age</td>\n",
       "      <td>height</td>\n",
       "      <td>-0.082292</td>\n",
       "    </tr>\n",
       "    <tr>\n",
       "      <th>0</th>\n",
       "      <td>weight</td>\n",
       "      <td>smoke</td>\n",
       "      <td>0.071676</td>\n",
       "    </tr>\n",
       "    <tr>\n",
       "      <th>0</th>\n",
       "      <td>gender</td>\n",
       "      <td>ap_lo</td>\n",
       "      <td>0.066374</td>\n",
       "    </tr>\n",
       "    <tr>\n",
       "      <th>0</th>\n",
       "      <td>gender</td>\n",
       "      <td>ap_hi</td>\n",
       "      <td>0.063174</td>\n",
       "    </tr>\n",
       "    <tr>\n",
       "      <th>0</th>\n",
       "      <td>age</td>\n",
       "      <td>weight</td>\n",
       "      <td>0.061559</td>\n",
       "    </tr>\n",
       "    <tr>\n",
       "      <th>0</th>\n",
       "      <td>height</td>\n",
       "      <td>cholesterol</td>\n",
       "      <td>-0.058940</td>\n",
       "    </tr>\n",
       "    <tr>\n",
       "      <th>0</th>\n",
       "      <td>age</td>\n",
       "      <td>smoke</td>\n",
       "      <td>-0.047471</td>\n",
       "    </tr>\n",
       "    <tr>\n",
       "      <th>0</th>\n",
       "      <td>gender</td>\n",
       "      <td>cholesterol</td>\n",
       "      <td>-0.035730</td>\n",
       "    </tr>\n",
       "    <tr>\n",
       "      <th>0</th>\n",
       "      <td>height</td>\n",
       "      <td>ap_lo</td>\n",
       "      <td>0.030534</td>\n",
       "    </tr>\n",
       "    <tr>\n",
       "      <th>0</th>\n",
       "      <td>ap_hi</td>\n",
       "      <td>smoke</td>\n",
       "      <td>0.028929</td>\n",
       "    </tr>\n",
       "    <tr>\n",
       "      <th>0</th>\n",
       "      <td>ap_lo</td>\n",
       "      <td>smoke</td>\n",
       "      <td>0.026172</td>\n",
       "    </tr>\n",
       "    <tr>\n",
       "      <th>0</th>\n",
       "      <td>age</td>\n",
       "      <td>gender</td>\n",
       "      <td>-0.020176</td>\n",
       "    </tr>\n",
       "    <tr>\n",
       "      <th>0</th>\n",
       "      <td>height</td>\n",
       "      <td>ap_hi</td>\n",
       "      <td>0.019381</td>\n",
       "    </tr>\n",
       "    <tr>\n",
       "      <th>0</th>\n",
       "      <td>cholesterol</td>\n",
       "      <td>smoke</td>\n",
       "      <td>0.015220</td>\n",
       "    </tr>\n",
       "    <tr>\n",
       "      <th>0</th>\n",
       "      <td>id</td>\n",
       "      <td>cholesterol</td>\n",
       "      <td>0.005706</td>\n",
       "    </tr>\n",
       "    <tr>\n",
       "      <th>0</th>\n",
       "      <td>id</td>\n",
       "      <td>smoke</td>\n",
       "      <td>-0.003697</td>\n",
       "    </tr>\n",
       "    <tr>\n",
       "      <th>0</th>\n",
       "      <td>id</td>\n",
       "      <td>gender</td>\n",
       "      <td>0.003506</td>\n",
       "    </tr>\n",
       "    <tr>\n",
       "      <th>0</th>\n",
       "      <td>id</td>\n",
       "      <td>ap_hi</td>\n",
       "      <td>0.003258</td>\n",
       "    </tr>\n",
       "    <tr>\n",
       "      <th>0</th>\n",
       "      <td>id</td>\n",
       "      <td>age</td>\n",
       "      <td>0.002682</td>\n",
       "    </tr>\n",
       "    <tr>\n",
       "      <th>0</th>\n",
       "      <td>id</td>\n",
       "      <td>height</td>\n",
       "      <td>-0.001886</td>\n",
       "    </tr>\n",
       "    <tr>\n",
       "      <th>0</th>\n",
       "      <td>id</td>\n",
       "      <td>weight</td>\n",
       "      <td>-0.001292</td>\n",
       "    </tr>\n",
       "    <tr>\n",
       "      <th>0</th>\n",
       "      <td>id</td>\n",
       "      <td>ap_lo</td>\n",
       "      <td>-0.000238</td>\n",
       "    </tr>\n",
       "  </tbody>\n",
       "</table>\n",
       "</div>"
      ],
      "text/plain": [
       "      Feature1     Feature2  Correlation\n",
       "0        ap_hi        ap_lo     0.735436\n",
       "0       gender       height     0.533805\n",
       "0       gender        smoke     0.338135\n",
       "0       height       weight     0.313569\n",
       "0       weight        ap_hi     0.277749\n",
       "0       weight        ap_lo     0.254420\n",
       "0          age        ap_hi     0.219087\n",
       "0        ap_hi  cholesterol     0.208722\n",
       "0       height        smoke     0.197632\n",
       "0       gender       weight     0.172480\n",
       "0        ap_lo  cholesterol     0.167401\n",
       "0          age        ap_lo     0.156700\n",
       "0          age  cholesterol     0.140113\n",
       "0       weight  cholesterol     0.137908\n",
       "0          age       height    -0.082292\n",
       "0       weight        smoke     0.071676\n",
       "0       gender        ap_lo     0.066374\n",
       "0       gender        ap_hi     0.063174\n",
       "0          age       weight     0.061559\n",
       "0       height  cholesterol    -0.058940\n",
       "0          age        smoke    -0.047471\n",
       "0       gender  cholesterol    -0.035730\n",
       "0       height        ap_lo     0.030534\n",
       "0        ap_hi        smoke     0.028929\n",
       "0        ap_lo        smoke     0.026172\n",
       "0          age       gender    -0.020176\n",
       "0       height        ap_hi     0.019381\n",
       "0  cholesterol        smoke     0.015220\n",
       "0           id  cholesterol     0.005706\n",
       "0           id        smoke    -0.003697\n",
       "0           id       gender     0.003506\n",
       "0           id        ap_hi     0.003258\n",
       "0           id          age     0.002682\n",
       "0           id       height    -0.001886\n",
       "0           id       weight    -0.001292\n",
       "0           id        ap_lo    -0.000238"
      ]
     },
     "execution_count": 25,
     "metadata": {},
     "output_type": "execute_result"
    }
   ],
   "source": [
    "correlation_df = pd.DataFrame(columns=['Feature1', 'Feature2', 'Correlation'])\n",
    "\n",
    "# Populate the DataFrame with correlations and pairs\n",
    "for i, j in zip(*np.where(upper_triangle.notna())):\n",
    "    feature1 = correlation_matrix.columns[i]\n",
    "    feature2 = correlation_matrix.columns[j]\n",
    "    correlation = upper_triangle.iloc[i, j]\n",
    "    correlation_df = pd.concat([correlation_df, pd.DataFrame([[feature1, feature2, correlation]], columns=['Feature1', 'Feature2', 'Correlation'])])\n",
    "\n",
    "# Rank the pairs based on the absolute correlation values\n",
    "ranked_pairs = correlation_df.sort_values(by='Correlation', key=lambda x: abs(x), ascending=False)\n",
    "\n",
    "ranked_pairs"
   ]
  },
  {
   "cell_type": "code",
   "execution_count": 26,
   "id": "eb5b166a",
   "metadata": {},
   "outputs": [],
   "source": [
    "# q6"
   ]
  },
  {
   "cell_type": "code",
   "execution_count": 27,
   "id": "73087a76",
   "metadata": {},
   "outputs": [],
   "source": [
    "average_height = df['height'].mean()\n",
    "std_dev_height = df['height'].std()"
   ]
  },
  {
   "cell_type": "code",
   "execution_count": 28,
   "id": "2a242e9d",
   "metadata": {},
   "outputs": [],
   "source": [
    "# Calculate the threshold for being more than 2 standard deviations away from the average height\n",
    "threshold_height = average_height + 2 * std_dev_height"
   ]
  },
  {
   "cell_type": "code",
   "execution_count": 29,
   "id": "a29d37ba",
   "metadata": {},
   "outputs": [],
   "source": [
    "# Count the number of people who are more than 2 standard deviations away\n",
    "people_above_threshold = df[df['height'] > threshold_height]"
   ]
  },
  {
   "cell_type": "code",
   "execution_count": 30,
   "id": "9c68d15f",
   "metadata": {},
   "outputs": [
    {
     "data": {
      "text/plain": [
       "2.0557142857142856"
      ]
     },
     "execution_count": 30,
     "metadata": {},
     "output_type": "execute_result"
    }
   ],
   "source": [
    "# Calculate the percentage\n",
    "percentage_above_threshold = (len(people_above_threshold) / len(df)) * 100\n",
    "percentage_above_threshold"
   ]
  },
  {
   "cell_type": "code",
   "execution_count": 31,
   "id": "2b0453f3",
   "metadata": {},
   "outputs": [],
   "source": [
    "# q7"
   ]
  },
  {
   "cell_type": "code",
   "execution_count": 32,
   "id": "a28b1548",
   "metadata": {},
   "outputs": [],
   "source": [
    "df_cardio = pd.read_csv('data/cardio_base.csv')\n",
    "df_alco = pd.read_csv('data/cardio_alco.csv', delimiter=';')\n",
    "\n",
    "# Merge datasets on 'id'\n",
    "merged_df = pd.merge(df_cardio, df_alco, on='id', how='inner')"
   ]
  },
  {
   "cell_type": "code",
   "execution_count": 33,
   "id": "e05908f7",
   "metadata": {},
   "outputs": [
    {
     "data": {
      "text/html": [
       "<div>\n",
       "<style scoped>\n",
       "    .dataframe tbody tr th:only-of-type {\n",
       "        vertical-align: middle;\n",
       "    }\n",
       "\n",
       "    .dataframe tbody tr th {\n",
       "        vertical-align: top;\n",
       "    }\n",
       "\n",
       "    .dataframe thead th {\n",
       "        text-align: right;\n",
       "    }\n",
       "</style>\n",
       "<table border=\"1\" class=\"dataframe\">\n",
       "  <thead>\n",
       "    <tr style=\"text-align: right;\">\n",
       "      <th></th>\n",
       "      <th>id</th>\n",
       "      <th>age</th>\n",
       "      <th>gender</th>\n",
       "      <th>height</th>\n",
       "      <th>weight</th>\n",
       "      <th>ap_hi</th>\n",
       "      <th>ap_lo</th>\n",
       "      <th>cholesterol</th>\n",
       "      <th>smoke</th>\n",
       "      <th>alco</th>\n",
       "      <th>age_years</th>\n",
       "    </tr>\n",
       "  </thead>\n",
       "  <tbody>\n",
       "    <tr>\n",
       "      <th>0</th>\n",
       "      <td>44</td>\n",
       "      <td>14605</td>\n",
       "      <td>1</td>\n",
       "      <td>159</td>\n",
       "      <td>60.0</td>\n",
       "      <td>110</td>\n",
       "      <td>70</td>\n",
       "      <td>1</td>\n",
       "      <td>0</td>\n",
       "      <td>0</td>\n",
       "      <td>40</td>\n",
       "    </tr>\n",
       "    <tr>\n",
       "      <th>1</th>\n",
       "      <td>45</td>\n",
       "      <td>20652</td>\n",
       "      <td>1</td>\n",
       "      <td>160</td>\n",
       "      <td>73.0</td>\n",
       "      <td>130</td>\n",
       "      <td>85</td>\n",
       "      <td>1</td>\n",
       "      <td>0</td>\n",
       "      <td>0</td>\n",
       "      <td>56</td>\n",
       "    </tr>\n",
       "    <tr>\n",
       "      <th>2</th>\n",
       "      <td>46</td>\n",
       "      <td>21940</td>\n",
       "      <td>2</td>\n",
       "      <td>173</td>\n",
       "      <td>82.0</td>\n",
       "      <td>140</td>\n",
       "      <td>90</td>\n",
       "      <td>3</td>\n",
       "      <td>0</td>\n",
       "      <td>0</td>\n",
       "      <td>60</td>\n",
       "    </tr>\n",
       "    <tr>\n",
       "      <th>3</th>\n",
       "      <td>47</td>\n",
       "      <td>20404</td>\n",
       "      <td>1</td>\n",
       "      <td>163</td>\n",
       "      <td>55.0</td>\n",
       "      <td>120</td>\n",
       "      <td>80</td>\n",
       "      <td>1</td>\n",
       "      <td>0</td>\n",
       "      <td>0</td>\n",
       "      <td>55</td>\n",
       "    </tr>\n",
       "    <tr>\n",
       "      <th>4</th>\n",
       "      <td>49</td>\n",
       "      <td>18328</td>\n",
       "      <td>2</td>\n",
       "      <td>175</td>\n",
       "      <td>95.0</td>\n",
       "      <td>120</td>\n",
       "      <td>80</td>\n",
       "      <td>1</td>\n",
       "      <td>0</td>\n",
       "      <td>0</td>\n",
       "      <td>50</td>\n",
       "    </tr>\n",
       "  </tbody>\n",
       "</table>\n",
       "</div>"
      ],
      "text/plain": [
       "   id    age  gender  height  weight  ap_hi  ap_lo  cholesterol  smoke  alco  \\\n",
       "0  44  14605       1     159    60.0    110     70            1      0     0   \n",
       "1  45  20652       1     160    73.0    130     85            1      0     0   \n",
       "2  46  21940       2     173    82.0    140     90            3      0     0   \n",
       "3  47  20404       1     163    55.0    120     80            1      0     0   \n",
       "4  49  18328       2     175    95.0    120     80            1      0     0   \n",
       "\n",
       "   age_years  \n",
       "0         40  \n",
       "1         56  \n",
       "2         60  \n",
       "3         55  \n",
       "4         50  "
      ]
     },
     "execution_count": 33,
     "metadata": {},
     "output_type": "execute_result"
    }
   ],
   "source": [
    "merged_df['age_years'] = (merged_df['age'] / 365).astype(int)\n",
    "merged_df.head()"
   ]
  },
  {
   "cell_type": "code",
   "execution_count": 34,
   "id": "3ea9a103",
   "metadata": {},
   "outputs": [
    {
     "name": "stdout",
     "output_type": "stream",
     "text": [
      "The percentage of the population over 50 years old that consumes alcohol is: 4.95%\n"
     ]
    }
   ],
   "source": [
    "# Filter data for people over 50 years old\n",
    "df_over_50 = merged_df[merged_df['age_years'] >= 50]\n",
    "\n",
    "# Calculate the percentage of people over 50 who consume alcohol\n",
    "percentage_alcohol_consumers_over_50 = (df_over_50['alco'].sum() / len(df_over_50)) * 100\n",
    "\n",
    "print(f\"The percentage of the population over 50 years old that consumes alcohol is: {percentage_alcohol_consumers_over_50:.2f}%\")"
   ]
  },
  {
   "cell_type": "code",
   "execution_count": 35,
   "id": "83395452",
   "metadata": {},
   "outputs": [],
   "source": [
    "# q8"
   ]
  },
  {
   "cell_type": "code",
   "execution_count": 36,
   "id": "32e6e11a",
   "metadata": {},
   "outputs": [],
   "source": [
    "df['gender'] = df['gender'].map({'Female': 1, 'Male': 2})"
   ]
  },
  {
   "cell_type": "code",
   "execution_count": 37,
   "id": "7428249c",
   "metadata": {},
   "outputs": [
    {
     "name": "stdout",
     "output_type": "stream",
     "text": [
      "gender\n",
      "1    128.139249\n",
      "2    130.078872\n",
      "Name: ap_hi, dtype: float64\n",
      "(128.24721212893826, 131.91053204760442)\n"
     ]
    }
   ],
   "source": [
    "# 1. Men have higher blood pressure than women\n",
    "blood_pressure_by_gender = df.groupby('gender')['ap_hi'].mean()\n",
    "confidence_interval_gender_blood_pressure = stats.t.interval(0.95, len(df), loc=blood_pressure_by_gender[2], scale=stats.sem(df[df['gender'] == 2]['ap_hi']))\n",
    "\n",
    "print(blood_pressure_by_gender)\n",
    "print(confidence_interval_gender_blood_pressure)"
   ]
  },
  {
   "cell_type": "code",
   "execution_count": 38,
   "id": "fedc5411",
   "metadata": {},
   "outputs": [
    {
     "name": "stdout",
     "output_type": "stream",
     "text": [
      "smoke\n",
      "0    1.364682\n",
      "1    1.389528\n",
      "Name: cholesterol, dtype: float64\n",
      "(1.372532855172669, 1.406523718015854)\n"
     ]
    }
   ],
   "source": [
    "# 2. Smokers have higher cholesterol level than non-smokers\n",
    "cholesterol_by_smoker = df.groupby('smoke')['cholesterol'].mean()\n",
    "confidence_interval_smoker_cholesterol = stats.t.interval(0.95, len(df), loc=cholesterol_by_smoker[1], scale=stats.sem(df[df['smoke'] == 1]['cholesterol']))\n",
    "\n",
    "print(cholesterol_by_smoker)\n",
    "print(confidence_interval_smoker_cholesterol)"
   ]
  },
  {
   "cell_type": "code",
   "execution_count": 39,
   "id": "df63f7a5",
   "metadata": {},
   "outputs": [
    {
     "name": "stdout",
     "output_type": "stream",
     "text": [
      "smoke\n",
      "0    128.861431\n",
      "1    128.360512\n",
      "Name: ap_hi, dtype: float64\n",
      "(127.89999457892151, 128.82102989830332)\n"
     ]
    }
   ],
   "source": [
    "# 3. Smokers have higher blood pressure than non-smokers\n",
    "blood_pressure_by_smoker = df.groupby('smoke')['ap_hi'].mean()\n",
    "confidence_interval_smoker_blood_pressure = stats.t.interval(0.95, len(df), loc=blood_pressure_by_smoker[1], scale=stats.sem(df[df['smoke'] == 1]['ap_hi']))\n",
    "\n",
    "print(blood_pressure_by_smoker)\n",
    "print(confidence_interval_smoker_blood_pressure)"
   ]
  },
  {
   "cell_type": "code",
   "execution_count": 40,
   "id": "f95fcdd3",
   "metadata": {},
   "outputs": [
    {
     "name": "stdout",
     "output_type": "stream",
     "text": [
      "smoke\n",
      "0    73.902352\n",
      "1    77.344351\n",
      "Name: weight, dtype: float64\n",
      "(76.9697005270363, 77.71900104534173)\n"
     ]
    }
   ],
   "source": [
    "# 4. Smokers weigh less than non-smokers\n",
    "weight_by_smoker = df.groupby('smoke')['weight'].mean()\n",
    "confidence_interval_smoker_weight = stats.t.interval(0.95, len(df), loc=weight_by_smoker[1], scale=stats.sem(df[df['smoke'] == 1]['weight']))\n",
    "\n",
    "print(weight_by_smoker)\n",
    "print(confidence_interval_smoker_weight)"
   ]
  },
  {
   "cell_type": "code",
   "execution_count": 41,
   "id": "2fbe7ff2",
   "metadata": {},
   "outputs": [],
   "source": [
    "# print(\"1. Men have higher blood pressure than women:\", confidence_interval_gender_blood_pressure[0] > 0)\n",
    "# print(\"2. Smokers have higher cholesterol level than non-smokers:\", confidence_interval_smoker_cholesterol[0] > 0)\n",
    "# print(\"3. Smokers have higher blood pressure than non-smokers:\", confidence_interval_smoker_blood_pressure[0] > 0)\n",
    "# print(\"4. Smokers weigh less than non-smokers:\", confidence_interval_smoker_weight[0] < 0)"
   ]
  },
  {
   "cell_type": "code",
   "execution_count": 42,
   "id": "098898ab",
   "metadata": {},
   "outputs": [],
   "source": [
    "# q9"
   ]
  },
  {
   "cell_type": "code",
   "execution_count": 43,
   "id": "23e19210",
   "metadata": {},
   "outputs": [
    {
     "data": {
      "text/html": [
       "<div>\n",
       "<style scoped>\n",
       "    .dataframe tbody tr th:only-of-type {\n",
       "        vertical-align: middle;\n",
       "    }\n",
       "\n",
       "    .dataframe tbody tr th {\n",
       "        vertical-align: top;\n",
       "    }\n",
       "\n",
       "    .dataframe thead th {\n",
       "        text-align: right;\n",
       "    }\n",
       "</style>\n",
       "<table border=\"1\" class=\"dataframe\">\n",
       "  <thead>\n",
       "    <tr style=\"text-align: right;\">\n",
       "      <th></th>\n",
       "      <th>location</th>\n",
       "      <th>date</th>\n",
       "      <th>new_cases</th>\n",
       "      <th>new_deaths</th>\n",
       "      <th>population</th>\n",
       "      <th>aged_65_older_percent</th>\n",
       "      <th>gdp_per_capita</th>\n",
       "      <th>hospital_beds_per_thousand</th>\n",
       "    </tr>\n",
       "  </thead>\n",
       "  <tbody>\n",
       "    <tr>\n",
       "      <th>0</th>\n",
       "      <td>Afghanistan</td>\n",
       "      <td>2019-12-31</td>\n",
       "      <td>0</td>\n",
       "      <td>0</td>\n",
       "      <td>38928341.0</td>\n",
       "      <td>2.581</td>\n",
       "      <td>1803.987</td>\n",
       "      <td>0.5</td>\n",
       "    </tr>\n",
       "    <tr>\n",
       "      <th>1</th>\n",
       "      <td>Afghanistan</td>\n",
       "      <td>2020-01-01</td>\n",
       "      <td>0</td>\n",
       "      <td>0</td>\n",
       "      <td>38928341.0</td>\n",
       "      <td>2.581</td>\n",
       "      <td>1803.987</td>\n",
       "      <td>0.5</td>\n",
       "    </tr>\n",
       "    <tr>\n",
       "      <th>2</th>\n",
       "      <td>Afghanistan</td>\n",
       "      <td>2020-01-02</td>\n",
       "      <td>0</td>\n",
       "      <td>0</td>\n",
       "      <td>38928341.0</td>\n",
       "      <td>2.581</td>\n",
       "      <td>1803.987</td>\n",
       "      <td>0.5</td>\n",
       "    </tr>\n",
       "    <tr>\n",
       "      <th>3</th>\n",
       "      <td>Afghanistan</td>\n",
       "      <td>2020-01-03</td>\n",
       "      <td>0</td>\n",
       "      <td>0</td>\n",
       "      <td>38928341.0</td>\n",
       "      <td>2.581</td>\n",
       "      <td>1803.987</td>\n",
       "      <td>0.5</td>\n",
       "    </tr>\n",
       "    <tr>\n",
       "      <th>4</th>\n",
       "      <td>Afghanistan</td>\n",
       "      <td>2020-01-04</td>\n",
       "      <td>0</td>\n",
       "      <td>0</td>\n",
       "      <td>38928341.0</td>\n",
       "      <td>2.581</td>\n",
       "      <td>1803.987</td>\n",
       "      <td>0.5</td>\n",
       "    </tr>\n",
       "  </tbody>\n",
       "</table>\n",
       "</div>"
      ],
      "text/plain": [
       "      location        date  new_cases  new_deaths  population  \\\n",
       "0  Afghanistan  2019-12-31          0           0  38928341.0   \n",
       "1  Afghanistan  2020-01-01          0           0  38928341.0   \n",
       "2  Afghanistan  2020-01-02          0           0  38928341.0   \n",
       "3  Afghanistan  2020-01-03          0           0  38928341.0   \n",
       "4  Afghanistan  2020-01-04          0           0  38928341.0   \n",
       "\n",
       "   aged_65_older_percent  gdp_per_capita  hospital_beds_per_thousand  \n",
       "0                  2.581        1803.987                         0.5  \n",
       "1                  2.581        1803.987                         0.5  \n",
       "2                  2.581        1803.987                         0.5  \n",
       "3                  2.581        1803.987                         0.5  \n",
       "4                  2.581        1803.987                         0.5  "
      ]
     },
     "execution_count": 43,
     "metadata": {},
     "output_type": "execute_result"
    }
   ],
   "source": [
    "covid_data = pd.read_csv('data/covid_data.csv')\n",
    "covid_data.head()"
   ]
  },
  {
   "cell_type": "code",
   "execution_count": 44,
   "id": "ea422a47",
   "metadata": {},
   "outputs": [],
   "source": [
    "italy_data = covid_data[covid_data['location'] == 'Italy']\n",
    "germany_data = covid_data[covid_data['location'] == 'Germany']\n",
    "\n",
    "italy_data.reset_index(drop=True, inplace=True)\n",
    "germany_data.reset_index(drop=True, inplace=True)"
   ]
  },
  {
   "cell_type": "code",
   "execution_count": 45,
   "id": "c649e0f5",
   "metadata": {},
   "outputs": [
    {
     "data": {
      "text/plain": [
       "0          0\n",
       "1          0\n",
       "2          0\n",
       "3          0\n",
       "4          0\n",
       "       ...  \n",
       "158    50853\n",
       "159    50822\n",
       "160    50805\n",
       "161    50735\n",
       "162    50700\n",
       "Name: new_cases, Length: 163, dtype: int64"
      ]
     },
     "execution_count": 45,
     "metadata": {},
     "output_type": "execute_result"
    }
   ],
   "source": [
    "confirmed_cases_diff = italy_data['new_cases'].cumsum() - germany_data['new_cases'].cumsum()\n",
    "confirmed_cases_diff"
   ]
  },
  {
   "cell_type": "code",
   "execution_count": 46,
   "id": "4d949d66",
   "metadata": {},
   "outputs": [
    {
     "name": "stdout",
     "output_type": "stream",
     "text": [
      "The date when the difference in total confirmed cases between Italy and Germany became more than 10000 is: 2020-03-12\n"
     ]
    }
   ],
   "source": [
    "date_difference_exceeded_10000 = confirmed_cases_diff[confirmed_cases_diff > 10000].index[0]\n",
    "print(\"The date when the difference in total confirmed cases between Italy and Germany became more than 10000 is:\", \n",
    "      italy_data.loc[date_difference_exceeded_10000, 'date'])"
   ]
  },
  {
   "cell_type": "code",
   "execution_count": 47,
   "id": "2a6873db",
   "metadata": {},
   "outputs": [],
   "source": [
    "# q 10"
   ]
  },
  {
   "cell_type": "code",
   "execution_count": 48,
   "id": "c707a397",
   "metadata": {},
   "outputs": [],
   "source": [
    "italy_data = covid_data[\n",
    "    (covid_data['location'] == 'Italy') & \n",
    "    (covid_data['date'] >= '2020-02-28') & \n",
    "    (covid_data['date'] <= '2020-03-20')\n",
    "]"
   ]
  },
  {
   "cell_type": "code",
   "execution_count": 49,
   "id": "a4bc1384",
   "metadata": {},
   "outputs": [],
   "source": [
    "italy_data['date'] = pd.to_datetime(italy_data['date'])"
   ]
  },
  {
   "cell_type": "code",
   "execution_count": 50,
   "id": "8c25112e",
   "metadata": {},
   "outputs": [],
   "source": [
    "# Sort the DataFrame by date\n",
    "italy_data.sort_values('date', inplace=True)"
   ]
  },
  {
   "cell_type": "code",
   "execution_count": 51,
   "id": "776a8525",
   "metadata": {},
   "outputs": [],
   "source": [
    "# Calculate the cumulative number of confirmed cases\n",
    "cumulative_cases = italy_data['new_cases'].cumsum()"
   ]
  },
  {
   "cell_type": "code",
   "execution_count": 52,
   "id": "946347c1",
   "metadata": {},
   "outputs": [],
   "source": [
    "# Define the exponential function\n",
    "def exponential_func(x, A, B):\n",
    "    return A * np.exp(B * x)"
   ]
  },
  {
   "cell_type": "code",
   "execution_count": 53,
   "id": "c1db5fd9",
   "metadata": {},
   "outputs": [],
   "source": [
    "# Fit the exponential function to the data\n",
    "params, covariance = curve_fit(exponential_func, range(len(cumulative_cases)), cumulative_cases)"
   ]
  },
  {
   "cell_type": "code",
   "execution_count": 54,
   "id": "7520ef9c",
   "metadata": {},
   "outputs": [],
   "source": [
    "# Generate the exponential curve\n",
    "exponential_curve = exponential_func(range(len(cumulative_cases)), *params)"
   ]
  },
  {
   "cell_type": "code",
   "execution_count": 55,
   "id": "8dbe29aa",
   "metadata": {},
   "outputs": [],
   "source": [
    "# Extract the actual number of cases on 2020-03-20\n",
    "actual_cases_2020_03_20 = italy_data[italy_data['date'] == '2020-03-20']['new_cases'].sum()"
   ]
  },
  {
   "cell_type": "code",
   "execution_count": 56,
   "id": "da3df394",
   "metadata": {},
   "outputs": [],
   "source": [
    "# Calculate the difference between the exponential curve and the actual number of cases on 2020-03-20\n",
    "difference = exponential_curve[-1] - actual_cases_2020_03_20"
   ]
  },
  {
   "cell_type": "code",
   "execution_count": 57,
   "id": "762176cd",
   "metadata": {},
   "outputs": [
    {
     "data": {
      "image/png": "[encoded data removed]",
      "text/plain": [
       "<Figure size 640x480 with 1 Axes>"
      ]
     },
     "metadata": {},
     "output_type": "display_data"
    }
   ],
   "source": [
    "# Plot the data and the fitted exponential curve\n",
    "plt.plot(italy_data['date'], cumulative_cases, label='Actual Cumulative Cases')\n",
    "plt.plot(italy_data['date'], exponential_curve, label='Exponential Curve', linestyle='--')\n",
    "plt.xlabel('Date')\n",
    "plt.ylabel('Cumulative Cases')\n",
    "plt.title('Exponential Fit to Cumulative Cases in Italy')\n",
    "plt.legend()\n",
    "plt.show()"
   ]
  },
  {
   "cell_type": "code",
   "execution_count": 58,
   "id": "1bdf841e",
   "metadata": {},
   "outputs": [
    {
     "name": "stdout",
     "output_type": "stream",
     "text": [
      "The difference between the exponential curve and the actual number of cases on 2020-03-20 is: 37024.69\n"
     ]
    }
   ],
   "source": [
    "print(f\"The difference between the exponential curve and the actual number of cases on 2020-03-20 is: {difference:.2f}\")"
   ]
  },
  {
   "cell_type": "code",
   "execution_count": 59,
   "id": "c245ccee",
   "metadata": {},
   "outputs": [],
   "source": [
    "# q 11"
   ]
  },
  {
   "cell_type": "code",
   "execution_count": 60,
   "id": "75305417",
   "metadata": {},
   "outputs": [],
   "source": [
    "covid_data = pd.read_csv('data/covid_data.csv')"
   ]
  },
  {
   "cell_type": "code",
   "execution_count": 61,
   "id": "9b8f2640",
   "metadata": {},
   "outputs": [],
   "source": [
    "covid_data = covid_data.dropna(subset=['population'])"
   ]
  },
  {
   "cell_type": "code",
   "execution_count": 62,
   "id": "15fea338",
   "metadata": {},
   "outputs": [
    {
     "data": {
      "text/html": [
       "<div>\n",
       "<style scoped>\n",
       "    .dataframe tbody tr th:only-of-type {\n",
       "        vertical-align: middle;\n",
       "    }\n",
       "\n",
       "    .dataframe tbody tr th {\n",
       "        vertical-align: top;\n",
       "    }\n",
       "\n",
       "    .dataframe thead th {\n",
       "        text-align: right;\n",
       "    }\n",
       "</style>\n",
       "<table border=\"1\" class=\"dataframe\">\n",
       "  <thead>\n",
       "    <tr style=\"text-align: right;\">\n",
       "      <th></th>\n",
       "      <th>location</th>\n",
       "      <th>date</th>\n",
       "      <th>new_cases</th>\n",
       "      <th>new_deaths</th>\n",
       "      <th>population</th>\n",
       "      <th>aged_65_older_percent</th>\n",
       "      <th>gdp_per_capita</th>\n",
       "      <th>hospital_beds_per_thousand</th>\n",
       "    </tr>\n",
       "  </thead>\n",
       "  <tbody>\n",
       "    <tr>\n",
       "      <th>0</th>\n",
       "      <td>Afghanistan</td>\n",
       "      <td>2019-12-31</td>\n",
       "      <td>0</td>\n",
       "      <td>0</td>\n",
       "      <td>38928341.0</td>\n",
       "      <td>2.581</td>\n",
       "      <td>1803.987</td>\n",
       "      <td>0.5</td>\n",
       "    </tr>\n",
       "    <tr>\n",
       "      <th>1</th>\n",
       "      <td>Afghanistan</td>\n",
       "      <td>2020-01-01</td>\n",
       "      <td>0</td>\n",
       "      <td>0</td>\n",
       "      <td>38928341.0</td>\n",
       "      <td>2.581</td>\n",
       "      <td>1803.987</td>\n",
       "      <td>0.5</td>\n",
       "    </tr>\n",
       "    <tr>\n",
       "      <th>2</th>\n",
       "      <td>Afghanistan</td>\n",
       "      <td>2020-01-02</td>\n",
       "      <td>0</td>\n",
       "      <td>0</td>\n",
       "      <td>38928341.0</td>\n",
       "      <td>2.581</td>\n",
       "      <td>1803.987</td>\n",
       "      <td>0.5</td>\n",
       "    </tr>\n",
       "    <tr>\n",
       "      <th>3</th>\n",
       "      <td>Afghanistan</td>\n",
       "      <td>2020-01-03</td>\n",
       "      <td>0</td>\n",
       "      <td>0</td>\n",
       "      <td>38928341.0</td>\n",
       "      <td>2.581</td>\n",
       "      <td>1803.987</td>\n",
       "      <td>0.5</td>\n",
       "    </tr>\n",
       "    <tr>\n",
       "      <th>4</th>\n",
       "      <td>Afghanistan</td>\n",
       "      <td>2020-01-04</td>\n",
       "      <td>0</td>\n",
       "      <td>0</td>\n",
       "      <td>38928341.0</td>\n",
       "      <td>2.581</td>\n",
       "      <td>1803.987</td>\n",
       "      <td>0.5</td>\n",
       "    </tr>\n",
       "  </tbody>\n",
       "</table>\n",
       "</div>"
      ],
      "text/plain": [
       "      location        date  new_cases  new_deaths  population  \\\n",
       "0  Afghanistan  2019-12-31          0           0  38928341.0   \n",
       "1  Afghanistan  2020-01-01          0           0  38928341.0   \n",
       "2  Afghanistan  2020-01-02          0           0  38928341.0   \n",
       "3  Afghanistan  2020-01-03          0           0  38928341.0   \n",
       "4  Afghanistan  2020-01-04          0           0  38928341.0   \n",
       "\n",
       "   aged_65_older_percent  gdp_per_capita  hospital_beds_per_thousand  \n",
       "0                  2.581        1803.987                         0.5  \n",
       "1                  2.581        1803.987                         0.5  \n",
       "2                  2.581        1803.987                         0.5  \n",
       "3                  2.581        1803.987                         0.5  \n",
       "4                  2.581        1803.987                         0.5  "
      ]
     },
     "execution_count": 62,
     "metadata": {},
     "output_type": "execute_result"
    }
   ],
   "source": [
    "covid_data.head()"
   ]
  },
  {
   "cell_type": "code",
   "execution_count": 63,
   "id": "cea35d96",
   "metadata": {},
   "outputs": [],
   "source": [
    "covid_data['death_rate_per_million'] = (covid_data['new_deaths'] / covid_data['population']) * 100_000_000"
   ]
  },
  {
   "cell_type": "code",
   "execution_count": 64,
   "id": "955f277b",
   "metadata": {},
   "outputs": [
    {
     "data": {
      "text/plain": [
       "0         0.000000\n",
       "1         0.000000\n",
       "2         0.000000\n",
       "3         0.000000\n",
       "4         0.000000\n",
       "           ...    \n",
       "23013    61.374260\n",
       "23014    49.032696\n",
       "23015    44.953053\n",
       "23016    41.437888\n",
       "23017    63.234474\n",
       "Name: death_rate_per_million, Length: 23018, dtype: float64"
      ]
     },
     "execution_count": 64,
     "metadata": {},
     "output_type": "execute_result"
    }
   ],
   "source": [
    "covid_data['death_rate_per_million']"
   ]
  },
  {
   "cell_type": "code",
   "execution_count": 65,
   "id": "274240a5",
   "metadata": {},
   "outputs": [
    {
     "data": {
      "text/plain": [
       "location\n",
       "Montserrat                          20004.000800\n",
       "San Marino                          17679.297543\n",
       "Sint Maarten (Dutch part)            9327.923138\n",
       "Isle of Man                          5880.139242\n",
       "Andorra                              5176.988287\n",
       "                                        ...     \n",
       "Cambodia                                0.000000\n",
       "Eritrea                                 0.000000\n",
       "Saint Kitts and Nevis                   0.000000\n",
       "Saint Lucia                             0.000000\n",
       "Saint Vincent and the Grenadines        0.000000\n",
       "Name: death_rate_per_million, Length: 211, dtype: float64"
      ]
     },
     "execution_count": 65,
     "metadata": {},
     "output_type": "execute_result"
    }
   ],
   "source": [
    "highest_death_rate_country = covid_data.groupby('location')['death_rate_per_million'].max().sort_values(ascending=False)\n",
    "\n",
    "highest_death_rate_country"
   ]
  },
  {
   "cell_type": "code",
   "execution_count": 66,
   "id": "7b9250e2",
   "metadata": {},
   "outputs": [],
   "source": [
    "# q 12"
   ]
  },
  {
   "cell_type": "code",
   "execution_count": 67,
   "id": "576cb602",
   "metadata": {},
   "outputs": [],
   "source": [
    "filtered_data = covid_data.dropna(subset=['population', 'aged_65_older_percent', 'death_rate_per_million'])"
   ]
  },
  {
   "cell_type": "code",
   "execution_count": 68,
   "id": "d69c1991",
   "metadata": {},
   "outputs": [
    {
     "data": {
      "text/html": [
       "<div>\n",
       "<style scoped>\n",
       "    .dataframe tbody tr th:only-of-type {\n",
       "        vertical-align: middle;\n",
       "    }\n",
       "\n",
       "    .dataframe tbody tr th {\n",
       "        vertical-align: top;\n",
       "    }\n",
       "\n",
       "    .dataframe thead th {\n",
       "        text-align: right;\n",
       "    }\n",
       "</style>\n",
       "<table border=\"1\" class=\"dataframe\">\n",
       "  <thead>\n",
       "    <tr style=\"text-align: right;\">\n",
       "      <th></th>\n",
       "      <th>location</th>\n",
       "      <th>date</th>\n",
       "      <th>new_cases</th>\n",
       "      <th>new_deaths</th>\n",
       "      <th>population</th>\n",
       "      <th>aged_65_older_percent</th>\n",
       "      <th>gdp_per_capita</th>\n",
       "      <th>hospital_beds_per_thousand</th>\n",
       "      <th>death_rate_per_million</th>\n",
       "    </tr>\n",
       "  </thead>\n",
       "  <tbody>\n",
       "    <tr>\n",
       "      <th>0</th>\n",
       "      <td>Afghanistan</td>\n",
       "      <td>2019-12-31</td>\n",
       "      <td>0</td>\n",
       "      <td>0</td>\n",
       "      <td>3.892834e+07</td>\n",
       "      <td>2.581</td>\n",
       "      <td>1803.987</td>\n",
       "      <td>0.500</td>\n",
       "      <td>0.000000</td>\n",
       "    </tr>\n",
       "    <tr>\n",
       "      <th>1</th>\n",
       "      <td>Afghanistan</td>\n",
       "      <td>2020-01-01</td>\n",
       "      <td>0</td>\n",
       "      <td>0</td>\n",
       "      <td>3.892834e+07</td>\n",
       "      <td>2.581</td>\n",
       "      <td>1803.987</td>\n",
       "      <td>0.500</td>\n",
       "      <td>0.000000</td>\n",
       "    </tr>\n",
       "    <tr>\n",
       "      <th>2</th>\n",
       "      <td>Afghanistan</td>\n",
       "      <td>2020-01-02</td>\n",
       "      <td>0</td>\n",
       "      <td>0</td>\n",
       "      <td>3.892834e+07</td>\n",
       "      <td>2.581</td>\n",
       "      <td>1803.987</td>\n",
       "      <td>0.500</td>\n",
       "      <td>0.000000</td>\n",
       "    </tr>\n",
       "    <tr>\n",
       "      <th>3</th>\n",
       "      <td>Afghanistan</td>\n",
       "      <td>2020-01-03</td>\n",
       "      <td>0</td>\n",
       "      <td>0</td>\n",
       "      <td>3.892834e+07</td>\n",
       "      <td>2.581</td>\n",
       "      <td>1803.987</td>\n",
       "      <td>0.500</td>\n",
       "      <td>0.000000</td>\n",
       "    </tr>\n",
       "    <tr>\n",
       "      <th>4</th>\n",
       "      <td>Afghanistan</td>\n",
       "      <td>2020-01-04</td>\n",
       "      <td>0</td>\n",
       "      <td>0</td>\n",
       "      <td>3.892834e+07</td>\n",
       "      <td>2.581</td>\n",
       "      <td>1803.987</td>\n",
       "      <td>0.500</td>\n",
       "      <td>0.000000</td>\n",
       "    </tr>\n",
       "    <tr>\n",
       "      <th>...</th>\n",
       "      <td>...</td>\n",
       "      <td>...</td>\n",
       "      <td>...</td>\n",
       "      <td>...</td>\n",
       "      <td>...</td>\n",
       "      <td>...</td>\n",
       "      <td>...</td>\n",
       "      <td>...</td>\n",
       "      <td>...</td>\n",
       "    </tr>\n",
       "    <tr>\n",
       "      <th>23013</th>\n",
       "      <td>World</td>\n",
       "      <td>2020-06-06</td>\n",
       "      <td>133510</td>\n",
       "      <td>4784</td>\n",
       "      <td>7.794799e+09</td>\n",
       "      <td>8.696</td>\n",
       "      <td>15469.207</td>\n",
       "      <td>2.705</td>\n",
       "      <td>61.374260</td>\n",
       "    </tr>\n",
       "    <tr>\n",
       "      <th>23014</th>\n",
       "      <td>World</td>\n",
       "      <td>2020-06-07</td>\n",
       "      <td>125862</td>\n",
       "      <td>3822</td>\n",
       "      <td>7.794799e+09</td>\n",
       "      <td>8.696</td>\n",
       "      <td>15469.207</td>\n",
       "      <td>2.705</td>\n",
       "      <td>49.032696</td>\n",
       "    </tr>\n",
       "    <tr>\n",
       "      <th>23015</th>\n",
       "      <td>World</td>\n",
       "      <td>2020-06-08</td>\n",
       "      <td>116318</td>\n",
       "      <td>3504</td>\n",
       "      <td>7.794799e+09</td>\n",
       "      <td>8.696</td>\n",
       "      <td>15469.207</td>\n",
       "      <td>2.705</td>\n",
       "      <td>44.953053</td>\n",
       "    </tr>\n",
       "    <tr>\n",
       "      <th>23016</th>\n",
       "      <td>World</td>\n",
       "      <td>2020-06-09</td>\n",
       "      <td>105851</td>\n",
       "      <td>3230</td>\n",
       "      <td>7.794799e+09</td>\n",
       "      <td>8.696</td>\n",
       "      <td>15469.207</td>\n",
       "      <td>2.705</td>\n",
       "      <td>41.437888</td>\n",
       "    </tr>\n",
       "    <tr>\n",
       "      <th>23017</th>\n",
       "      <td>World</td>\n",
       "      <td>2020-06-10</td>\n",
       "      <td>125281</td>\n",
       "      <td>4929</td>\n",
       "      <td>7.794799e+09</td>\n",
       "      <td>8.696</td>\n",
       "      <td>15469.207</td>\n",
       "      <td>2.705</td>\n",
       "      <td>63.234474</td>\n",
       "    </tr>\n",
       "  </tbody>\n",
       "</table>\n",
       "<p>20643 rows × 9 columns</p>\n",
       "</div>"
      ],
      "text/plain": [
       "          location        date  new_cases  new_deaths    population  \\\n",
       "0      Afghanistan  2019-12-31          0           0  3.892834e+07   \n",
       "1      Afghanistan  2020-01-01          0           0  3.892834e+07   \n",
       "2      Afghanistan  2020-01-02          0           0  3.892834e+07   \n",
       "3      Afghanistan  2020-01-03          0           0  3.892834e+07   \n",
       "4      Afghanistan  2020-01-04          0           0  3.892834e+07   \n",
       "...            ...         ...        ...         ...           ...   \n",
       "23013        World  2020-06-06     133510        4784  7.794799e+09   \n",
       "23014        World  2020-06-07     125862        3822  7.794799e+09   \n",
       "23015        World  2020-06-08     116318        3504  7.794799e+09   \n",
       "23016        World  2020-06-09     105851        3230  7.794799e+09   \n",
       "23017        World  2020-06-10     125281        4929  7.794799e+09   \n",
       "\n",
       "       aged_65_older_percent  gdp_per_capita  hospital_beds_per_thousand  \\\n",
       "0                      2.581        1803.987                       0.500   \n",
       "1                      2.581        1803.987                       0.500   \n",
       "2                      2.581        1803.987                       0.500   \n",
       "3                      2.581        1803.987                       0.500   \n",
       "4                      2.581        1803.987                       0.500   \n",
       "...                      ...             ...                         ...   \n",
       "23013                  8.696       15469.207                       2.705   \n",
       "23014                  8.696       15469.207                       2.705   \n",
       "23015                  8.696       15469.207                       2.705   \n",
       "23016                  8.696       15469.207                       2.705   \n",
       "23017                  8.696       15469.207                       2.705   \n",
       "\n",
       "       death_rate_per_million  \n",
       "0                    0.000000  \n",
       "1                    0.000000  \n",
       "2                    0.000000  \n",
       "3                    0.000000  \n",
       "4                    0.000000  \n",
       "...                       ...  \n",
       "23013               61.374260  \n",
       "23014               49.032696  \n",
       "23015               44.953053  \n",
       "23016               41.437888  \n",
       "23017               63.234474  \n",
       "\n",
       "[20643 rows x 9 columns]"
      ]
     },
     "execution_count": 68,
     "metadata": {},
     "output_type": "execute_result"
    }
   ],
   "source": [
    "filtered_data"
   ]
  },
  {
   "cell_type": "code",
   "execution_count": 69,
   "id": "5b054d8b",
   "metadata": {},
   "outputs": [
    {
     "data": {
      "text/plain": [
       "0         0.000000\n",
       "1         0.000000\n",
       "2         0.000000\n",
       "3         0.000000\n",
       "4         0.000000\n",
       "           ...    \n",
       "23013    61.374260\n",
       "23014    49.032696\n",
       "23015    44.953053\n",
       "23016    41.437888\n",
       "23017    63.234474\n",
       "Name: death_rate_per_million, Length: 20643, dtype: float64"
      ]
     },
     "execution_count": 69,
     "metadata": {},
     "output_type": "execute_result"
    }
   ],
   "source": [
    "filtered_data['death_rate_per_million']"
   ]
  },
  {
   "cell_type": "code",
   "execution_count": 70,
   "id": "ef372f7d",
   "metadata": {},
   "outputs": [],
   "source": [
    "# Define the conditions for prediction\n",
    "condition_population = filtered_data['aged_65_older_percent'] > 20\n",
    "condition_death_rate = filtered_data['death_rate_per_million'] > 50"
   ]
  },
  {
   "cell_type": "code",
   "execution_count": 71,
   "id": "1a8c6309",
   "metadata": {},
   "outputs": [],
   "source": [
    "# True labels based on the conditions\n",
    "true_labels = condition_death_rate.astype(int)\n",
    "\n",
    "# Predicted labels based on the conditions\n",
    "predicted_labels = condition_population.astype(int)\n",
    "\n",
    "# Calculate the F1 score\n",
    "f1 = f1_score(true_labels, predicted_labels)"
   ]
  },
  {
   "cell_type": "code",
   "execution_count": 72,
   "id": "c55c6370",
   "metadata": {},
   "outputs": [
    {
     "data": {
      "text/plain": [
       "0.15202267456841018"
      ]
     },
     "execution_count": 72,
     "metadata": {},
     "output_type": "execute_result"
    }
   ],
   "source": [
    "f1"
   ]
  },
  {
   "cell_type": "code",
   "execution_count": 73,
   "id": "8cb2a10b",
   "metadata": {},
   "outputs": [],
   "source": [
    "# q 13"
   ]
  },
  {
   "cell_type": "code",
   "execution_count": 74,
   "id": "52c1bbe2",
   "metadata": {},
   "outputs": [
    {
     "data": {
      "text/plain": [
       "0.8565304372677908"
      ]
     },
     "execution_count": 74,
     "metadata": {},
     "output_type": "execute_result"
    }
   ],
   "source": [
    "covid_data = pd.read_csv('data/covid_data.csv')\n",
    "\n",
    "# Filter data for countries with at least 5 hospital beds per 1000 inhabitants\n",
    "filtered_data = covid_data[covid_data['hospital_beds_per_thousand'] >= 5]\n",
    "\n",
    "# Calculate the probability of having GDP over $10,000 given at least 5 hospital beds\n",
    "probability_gdp_over_10000_given_beds = filtered_data[filtered_data['gdp_per_capita'] > 10000].shape[0] / filtered_data.shape[0]\n",
    "\n",
    "probability_gdp_over_10000_given_beds"
   ]
  }
 ],
 "metadata": {
  "kernelspec": {
   "display_name": "ml_39",
   "language": "python",
   "name": "ml_39"
  },
  "language_info": {
   "codemirror_mode": {
    "name": "ipython",
    "version": 3
   },
   "file_extension": ".py",
   "mimetype": "text/x-python",
   "name": "python",
   "nbconvert_exporter": "python",
   "pygments_lexer": "ipython3",
   "version": "3.9.17"
  }
 },
 "nbformat": 4,
 "nbformat_minor": 5
}
